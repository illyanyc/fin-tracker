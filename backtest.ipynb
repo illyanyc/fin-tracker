{
 "cells": [
  {
   "cell_type": "markdown",
   "id": "e011f887-1a59-4950-b7ff-7a7f08444946",
   "metadata": {},
   "source": [
    "# Backtest"
   ]
  },
  {
   "cell_type": "code",
   "execution_count": 1,
   "id": "41de6693-ea92-4479-a491-f7b4fdf527e2",
   "metadata": {},
   "outputs": [],
   "source": [
    "import numpy as np\n",
    "import pandas as pd\n",
    "from datetime import date, datetime, timedelta"
   ]
  },
  {
   "cell_type": "code",
   "execution_count": 2,
   "id": "303e8c85-ff45-4317-9dc7-73c087256df3",
   "metadata": {},
   "outputs": [],
   "source": [
    "from technicals import TechnicalAnalysis\n",
    "import data.marketdata.alpaca as api"
   ]
  },
  {
   "cell_type": "code",
   "execution_count": 3,
   "id": "f0d4d7ac-1cf9-42a7-aa64-46a7a2b395bf",
   "metadata": {},
   "outputs": [],
   "source": [
    "tickers = ['FB','AAPL','AMZN','NFLX','GOOG']\n",
    "api_key_path = '../resources/api_keys.env'"
   ]
  },
  {
   "cell_type": "code",
   "execution_count": 4,
   "id": "d11eb870-9614-47b0-9672-8ffe4c1cca46",
   "metadata": {},
   "outputs": [
    {
     "name": "stdout",
     "output_type": "stream",
     "text": [
      "Testing Apaca Trade API key by data type:\n",
      "ALPACA_API_KEY: <class 'str'>\n",
      "ALPACA_SECRET_KEY: <class 'str'>\n"
     ]
    }
   ],
   "source": [
    "ohlcv = api.ohlcv(tickers=tickers, api_key_path=api_key_path)"
   ]
  },
  {
   "cell_type": "code",
   "execution_count": 5,
   "id": "f75d0ba9-1e09-49e8-81a7-9a5060b202cf",
   "metadata": {},
   "outputs": [],
   "source": [
    "technicals = TechnicalAnalysis(ohlcv)"
   ]
  },
  {
   "cell_type": "code",
   "execution_count": 6,
   "id": "38f69bea-ad20-421d-87c7-0aa5410b5336",
   "metadata": {},
   "outputs": [
    {
     "name": "stdout",
     "output_type": "stream",
     "text": [
      "Open price data for AAPL\n"
     ]
    },
    {
     "data": {
      "text/plain": [
       "<AxesSubplot:xlabel='time'>"
      ]
     },
     "execution_count": 6,
     "metadata": {},
     "output_type": "execute_result"
    },
    {
     "data": {
      "image/png": "[encoded data removed]",
      "text/plain": [
       "<Figure size 432x288 with 1 Axes>"
      ]
     },
     "metadata": {
      "needs_background": "light"
     },
     "output_type": "display_data"
    }
   ],
   "source": [
    "print(f\"Open price data for {technicals.tickers()[0]}\")\n",
    "technicals._open(ticker=technicals.tickers()[0]).tail(14).plot(color='black')"
   ]
  },
  {
   "cell_type": "markdown",
   "id": "3f8168e4-b39e-4cee-a8d3-216b745b121b",
   "metadata": {},
   "source": [
    "### *Backtesting Williams %R*"
   ]
  },
  {
   "cell_type": "code",
   "execution_count": 42,
   "id": "35b81c01-d88a-4613-a45d-1ec93a8f5d47",
   "metadata": {},
   "outputs": [],
   "source": [
    "def wr_backtest(ticker : str,\n",
    "                wr_rules : pd.DataFrame,\n",
    "                seed_cash : int or float,\n",
    "                wr_range : int = 14,\n",
    "                start_date : str = '2020-01-01',\n",
    "                end_date : str = datetime.now().strftime('%Y-%m-%d'),\n",
    "                debug : bool = False):\n",
    "    \n",
    "    '''\n",
    "    Returns open price for ticker\n",
    "        \n",
    "        Parameters\n",
    "        ----------\n",
    "        ticker : str\n",
    "            ticker to be processed\n",
    "        start_date : str\n",
    "            string with date in following format YYYY-MM-DD; default = '2020-01-01'\n",
    "        end_date : str\n",
    "            string with date in following format YYYY-MM-DD; default = today's date {datetime.now.strftime('%Y-%m-%d')}\n",
    "        wr_bounds : pd.DataFrame\n",
    "            rules for backtest, keys:\n",
    "                'cond' : str \n",
    "                    equals : =\n",
    "                    less : <\n",
    "                    greater : >\n",
    "                'val' : int or float\n",
    "                    value for conditional 'elg'\n",
    "                'act' : int\n",
    "                    1 : long or close short\n",
    "                    0 : hold\n",
    "                    -1 : short or close long\n",
    "\n",
    "        Returns\n",
    "        -------\n",
    "        df : DataFrame\n",
    "            position values in $USD\n",
    "    '''\n",
    "    \n",
    "    # get stock data and clean up df\n",
    "    ohlcv = api.ohlcv(tickers=[ticker],\n",
    "                      api_key_path=api_key_path,\n",
    "                      start_date=start_date,\n",
    "                      end_date=end_date)\n",
    "    \n",
    "    technicals = TechnicalAnalysis(ohlcv)\n",
    "    data = technicals._close(ticker=ticker)\n",
    "    data['wr'] = technicals.williams_range(ticker=ticker, days=wr_range)[wr_range:]\n",
    "    data = data.dropna().reset_index()\n",
    "    \n",
    "    \n",
    "    # instantiate stock and cash columns, seed columns\n",
    "    data['pos'] = bool()\n",
    "    data['stock_value'] = int()\n",
    "    data['shares'] = int()\n",
    "    data['cash'] = int()\n",
    "    data['cash'].iloc[0] = seed_cash\n",
    "    data['pos'].iloc[0] = False\n",
    "            \n",
    "    # iterate over close df\n",
    "    for i in range(1,len(data.index)-1):\n",
    "        lastday = data.iloc[i-1]\n",
    "        today = data.iloc[i]\n",
    "        pos = data.iloc[i-1]['pos']\n",
    "        \n",
    "        if debug:\n",
    "            print(today.time)\n",
    "        \n",
    "        # long case\n",
    "        if today['wr'] > wr_rules['long'] and lastday['wr'] <= wr_rules['long'] and pos == False:\n",
    "            # handle stock\n",
    "            shares = int(lastday['cash'] / today['close'])\n",
    "            data.at[i, 'shares'] = shares\n",
    "            \n",
    "            stock_value = shares * today['close']\n",
    "            data.at[i, 'stock_value'] = stock_value\n",
    "            \n",
    "            # handle cash\n",
    "            cash = lastday['cash'] - stock_value\n",
    "            data.at[i, 'cash'] = cash\n",
    "            \n",
    "            # handle position bool\n",
    "            data.at[i, 'pos'] = True\n",
    "            \n",
    "            if debug:\n",
    "                print(f\"Open Long : shares - {shares}, stock_value - {stock_value}, cash - {cash}, close = {today['close']}, wr = {today['wr']}, pos {True}\")\n",
    "        \n",
    "        \n",
    "        # close long case\n",
    "        elif today['wr'] < wr_rules['short'] and lastday['wr'] >= wr_rules['short'] and pos == True:\n",
    "            # handle cash\n",
    "            cash = lastday['cash'] + (lastday['shares'] * today['close'])\n",
    "            data.at[i, 'cash'] = cash\n",
    "            \n",
    "            # handle stock\n",
    "            shares = 0\n",
    "            data.at[i, 'shares'] = shares\n",
    "            \n",
    "            stock_value = 0\n",
    "            data.at[i, 'stock_value'] = stock_value\n",
    "            \n",
    "            # handle position bool\n",
    "            data.at[i, 'pos'] = False\n",
    "            \n",
    "            if debug:\n",
    "                print(f\"Close Long : shares - {shares}, stock_value - {stock_value}, cash - {cash}, close = {today['close']}, wr = {today['wr']}, pos {True}\")\n",
    "\n",
    "        # hold case        \n",
    "        else:\n",
    "            # handle stock\n",
    "            shares = lastday['shares']\n",
    "            data.at[i, 'shares'] = shares\n",
    "            \n",
    "            stock_value = shares * today['close']\n",
    "            data.at[i, 'stock_value'] = stock_value\n",
    "            \n",
    "            # handle cash\n",
    "            cash = lastday['cash']\n",
    "            data.at[i, 'cash'] = cash\n",
    "            \n",
    "            # handle position bool\n",
    "            data.at[i, 'pos'] = lastday['pos']\n",
    "            \n",
    "            if debug:\n",
    "                print(f\"Hold : shares - {shares}, stock_value - {stock_value}, cash - {cash}, close = {today['close']}, wr = {today['wr']}, pos {True}\")\n",
    "           \n",
    "    data = data.iloc[:-1,:]\n",
    "    return data"
   ]
  },
  {
   "cell_type": "code",
   "execution_count": 63,
   "id": "f3e5c371-4998-4513-88a4-724018af3ae0",
   "metadata": {},
   "outputs": [
    {
     "name": "stdout",
     "output_type": "stream",
     "text": [
      "Testing Apaca Trade API key by data type:\n",
      "ALPACA_API_KEY: <class 'str'>\n",
      "ALPACA_SECRET_KEY: <class 'str'>\n"
     ]
    },
    {
     "name": "stderr",
     "output_type": "stream",
     "text": [
      "C:\\Users\\illya\\anaconda3\\envs\\trade_ai\\lib\\site-packages\\pandas\\core\\indexing.py:1637: SettingWithCopyWarning: \n",
      "A value is trying to be set on a copy of a slice from a DataFrame\n",
      "\n",
      "See the caveats in the documentation: https://pandas.pydata.org/pandas-docs/stable/user_guide/indexing.html#returning-a-view-versus-a-copy\n",
      "  self._setitem_single_block(indexer, value, name)\n"
     ]
    }
   ],
   "source": [
    "# set backtest bounds logic\n",
    "wr_rules = {'long' : -80,\n",
    "             'short' : -20}\n",
    "\n",
    "# set cash position and tracker\n",
    "seed_cash = 1000000.0\n",
    "\n",
    "data = wr_backtest(ticker = 'SYK',\n",
    "            start_date = '2018-01-01',\n",
    "            end_date = '2021-05-01',\n",
    "                wr_rules = wr_rules,\n",
    "                seed_cash = seed_cash,\n",
    "                  wr_range=30)"
   ]
  },
  {
   "cell_type": "code",
   "execution_count": 64,
   "id": "57fcf3d1-3b5f-4077-84d2-d31a52b8ce97",
   "metadata": {},
   "outputs": [],
   "source": [
    "init_hold_shares = data.iloc[0]['cash']/data.iloc[0]['close']\n",
    "\n",
    "data['trade_portfolio'] = data['cash'] + data['stock_value']\n",
    "data['hold_portfolio'] = init_hold_shares * data['close']\n",
    "data = data.set_index('time')"
   ]
  },
  {
   "cell_type": "code",
   "execution_count": 65,
   "id": "14f849e0-9704-4409-bd93-18788c0150c5",
   "metadata": {},
   "outputs": [
    {
     "data": {
      "text/html": [
       "<div>\n",
       "<style scoped>\n",
       "    .dataframe tbody tr th:only-of-type {\n",
       "        vertical-align: middle;\n",
       "    }\n",
       "\n",
       "    .dataframe tbody tr th {\n",
       "        vertical-align: top;\n",
       "    }\n",
       "\n",
       "    .dataframe thead th {\n",
       "        text-align: right;\n",
       "    }\n",
       "</style>\n",
       "<table border=\"1\" class=\"dataframe\">\n",
       "  <thead>\n",
       "    <tr style=\"text-align: right;\">\n",
       "      <th></th>\n",
       "      <th>close</th>\n",
       "      <th>wr</th>\n",
       "      <th>pos</th>\n",
       "      <th>stock_value</th>\n",
       "      <th>shares</th>\n",
       "      <th>cash</th>\n",
       "      <th>trade_portfolio</th>\n",
       "      <th>hold_portfolio</th>\n",
       "    </tr>\n",
       "    <tr>\n",
       "      <th>time</th>\n",
       "      <th></th>\n",
       "      <th></th>\n",
       "      <th></th>\n",
       "      <th></th>\n",
       "      <th></th>\n",
       "      <th></th>\n",
       "      <th></th>\n",
       "      <th></th>\n",
       "    </tr>\n",
       "  </thead>\n",
       "  <tbody>\n",
       "    <tr>\n",
       "      <th>2018-02-14 00:00:00-05:00</th>\n",
       "      <td>156.24</td>\n",
       "      <td>-59.310345</td>\n",
       "      <td>False</td>\n",
       "      <td>0</td>\n",
       "      <td>0</td>\n",
       "      <td>1000000</td>\n",
       "      <td>1000000</td>\n",
       "      <td>1.000000e+06</td>\n",
       "    </tr>\n",
       "    <tr>\n",
       "      <th>2018-02-15 00:00:00-05:00</th>\n",
       "      <td>158.59</td>\n",
       "      <td>-49.181034</td>\n",
       "      <td>False</td>\n",
       "      <td>0</td>\n",
       "      <td>0</td>\n",
       "      <td>1000000</td>\n",
       "      <td>1000000</td>\n",
       "      <td>1.015041e+06</td>\n",
       "    </tr>\n",
       "    <tr>\n",
       "      <th>2018-02-16 00:00:00-05:00</th>\n",
       "      <td>159.84</td>\n",
       "      <td>-43.793103</td>\n",
       "      <td>False</td>\n",
       "      <td>0</td>\n",
       "      <td>0</td>\n",
       "      <td>1000000</td>\n",
       "      <td>1000000</td>\n",
       "      <td>1.023041e+06</td>\n",
       "    </tr>\n",
       "    <tr>\n",
       "      <th>2018-02-20 00:00:00-05:00</th>\n",
       "      <td>158.74</td>\n",
       "      <td>-48.534483</td>\n",
       "      <td>False</td>\n",
       "      <td>0</td>\n",
       "      <td>0</td>\n",
       "      <td>1000000</td>\n",
       "      <td>1000000</td>\n",
       "      <td>1.016001e+06</td>\n",
       "    </tr>\n",
       "    <tr>\n",
       "      <th>2018-02-21 00:00:00-05:00</th>\n",
       "      <td>157.95</td>\n",
       "      <td>-51.939655</td>\n",
       "      <td>False</td>\n",
       "      <td>0</td>\n",
       "      <td>0</td>\n",
       "      <td>1000000</td>\n",
       "      <td>1000000</td>\n",
       "      <td>1.010945e+06</td>\n",
       "    </tr>\n",
       "  </tbody>\n",
       "</table>\n",
       "</div>"
      ],
      "text/plain": [
       "                            close         wr    pos  stock_value  shares  \\\n",
       "time                                                                       \n",
       "2018-02-14 00:00:00-05:00  156.24 -59.310345  False            0       0   \n",
       "2018-02-15 00:00:00-05:00  158.59 -49.181034  False            0       0   \n",
       "2018-02-16 00:00:00-05:00  159.84 -43.793103  False            0       0   \n",
       "2018-02-20 00:00:00-05:00  158.74 -48.534483  False            0       0   \n",
       "2018-02-21 00:00:00-05:00  157.95 -51.939655  False            0       0   \n",
       "\n",
       "                              cash  trade_portfolio  hold_portfolio  \n",
       "time                                                                 \n",
       "2018-02-14 00:00:00-05:00  1000000          1000000    1.000000e+06  \n",
       "2018-02-15 00:00:00-05:00  1000000          1000000    1.015041e+06  \n",
       "2018-02-16 00:00:00-05:00  1000000          1000000    1.023041e+06  \n",
       "2018-02-20 00:00:00-05:00  1000000          1000000    1.016001e+06  \n",
       "2018-02-21 00:00:00-05:00  1000000          1000000    1.010945e+06  "
      ]
     },
     "execution_count": 65,
     "metadata": {},
     "output_type": "execute_result"
    }
   ],
   "source": [
    "data.head()"
   ]
  },
  {
   "cell_type": "code",
   "execution_count": 66,
   "id": "780d3f60-3ad0-4c0c-a2c9-6399fb00894f",
   "metadata": {},
   "outputs": [
    {
     "data": {
      "text/html": [
       "<div>\n",
       "<style scoped>\n",
       "    .dataframe tbody tr th:only-of-type {\n",
       "        vertical-align: middle;\n",
       "    }\n",
       "\n",
       "    .dataframe tbody tr th {\n",
       "        vertical-align: top;\n",
       "    }\n",
       "\n",
       "    .dataframe thead th {\n",
       "        text-align: right;\n",
       "    }\n",
       "</style>\n",
       "<table border=\"1\" class=\"dataframe\">\n",
       "  <thead>\n",
       "    <tr style=\"text-align: right;\">\n",
       "      <th></th>\n",
       "      <th>close</th>\n",
       "      <th>wr</th>\n",
       "      <th>pos</th>\n",
       "      <th>stock_value</th>\n",
       "      <th>shares</th>\n",
       "      <th>cash</th>\n",
       "      <th>trade_portfolio</th>\n",
       "      <th>hold_portfolio</th>\n",
       "    </tr>\n",
       "    <tr>\n",
       "      <th>time</th>\n",
       "      <th></th>\n",
       "      <th></th>\n",
       "      <th></th>\n",
       "      <th></th>\n",
       "      <th></th>\n",
       "      <th></th>\n",
       "      <th></th>\n",
       "      <th></th>\n",
       "    </tr>\n",
       "  </thead>\n",
       "  <tbody>\n",
       "    <tr>\n",
       "      <th>2021-04-23 00:00:00-04:00</th>\n",
       "      <td>267.09</td>\n",
       "      <td>-2.363184</td>\n",
       "      <td>True</td>\n",
       "      <td>2367485</td>\n",
       "      <td>8864</td>\n",
       "      <td>225</td>\n",
       "      <td>2367710</td>\n",
       "      <td>1.709485e+06</td>\n",
       "    </tr>\n",
       "    <tr>\n",
       "      <th>2021-04-26 00:00:00-04:00</th>\n",
       "      <td>265.19</td>\n",
       "      <td>-7.089552</td>\n",
       "      <td>True</td>\n",
       "      <td>2350644</td>\n",
       "      <td>8864</td>\n",
       "      <td>225</td>\n",
       "      <td>2350869</td>\n",
       "      <td>1.697325e+06</td>\n",
       "    </tr>\n",
       "    <tr>\n",
       "      <th>2021-04-27 00:00:00-04:00</th>\n",
       "      <td>264.97</td>\n",
       "      <td>-7.636816</td>\n",
       "      <td>True</td>\n",
       "      <td>2348694</td>\n",
       "      <td>8864</td>\n",
       "      <td>225</td>\n",
       "      <td>2348919</td>\n",
       "      <td>1.695917e+06</td>\n",
       "    </tr>\n",
       "    <tr>\n",
       "      <th>2021-04-28 00:00:00-04:00</th>\n",
       "      <td>259.53</td>\n",
       "      <td>-21.169154</td>\n",
       "      <td>False</td>\n",
       "      <td>0</td>\n",
       "      <td>0</td>\n",
       "      <td>2300698</td>\n",
       "      <td>2300698</td>\n",
       "      <td>1.661098e+06</td>\n",
       "    </tr>\n",
       "    <tr>\n",
       "      <th>2021-04-29 00:00:00-04:00</th>\n",
       "      <td>263.52</td>\n",
       "      <td>-11.243781</td>\n",
       "      <td>False</td>\n",
       "      <td>0</td>\n",
       "      <td>0</td>\n",
       "      <td>2300698</td>\n",
       "      <td>2300698</td>\n",
       "      <td>1.686636e+06</td>\n",
       "    </tr>\n",
       "  </tbody>\n",
       "</table>\n",
       "</div>"
      ],
      "text/plain": [
       "                            close         wr    pos  stock_value  shares  \\\n",
       "time                                                                       \n",
       "2021-04-23 00:00:00-04:00  267.09  -2.363184   True      2367485    8864   \n",
       "2021-04-26 00:00:00-04:00  265.19  -7.089552   True      2350644    8864   \n",
       "2021-04-27 00:00:00-04:00  264.97  -7.636816   True      2348694    8864   \n",
       "2021-04-28 00:00:00-04:00  259.53 -21.169154  False            0       0   \n",
       "2021-04-29 00:00:00-04:00  263.52 -11.243781  False            0       0   \n",
       "\n",
       "                              cash  trade_portfolio  hold_portfolio  \n",
       "time                                                                 \n",
       "2021-04-23 00:00:00-04:00      225          2367710    1.709485e+06  \n",
       "2021-04-26 00:00:00-04:00      225          2350869    1.697325e+06  \n",
       "2021-04-27 00:00:00-04:00      225          2348919    1.695917e+06  \n",
       "2021-04-28 00:00:00-04:00  2300698          2300698    1.661098e+06  \n",
       "2021-04-29 00:00:00-04:00  2300698          2300698    1.686636e+06  "
      ]
     },
     "execution_count": 66,
     "metadata": {},
     "output_type": "execute_result"
    }
   ],
   "source": [
    "data.tail()"
   ]
  },
  {
   "cell_type": "code",
   "execution_count": 67,
   "id": "1fd201c5-3d57-403b-aeec-6a1799769df8",
   "metadata": {},
   "outputs": [
    {
     "data": {
      "text/plain": [
       "<AxesSubplot:xlabel='time'>"
      ]
     },
     "execution_count": 67,
     "metadata": {},
     "output_type": "execute_result"
    },
    {
     "data": {
      "image/png": "[encoded data removed]",
      "text/plain": [
       "<Figure size 432x288 with 1 Axes>"
      ]
     },
     "metadata": {
      "needs_background": "light"
     },
     "output_type": "display_data"
    }
   ],
   "source": [
    "data[['trade_portfolio','hold_portfolio']].plot()"
   ]
  },
  {
   "cell_type": "code",
   "execution_count": null,
   "id": "c7c9e721-a85f-40fc-9c54-7f19e7afdf7c",
   "metadata": {},
   "outputs": [],
   "source": []
  }
 ],
 "metadata": {
  "kernelspec": {
   "display_name": "Python 3",
   "language": "python",
   "name": "python3"
  },
  "language_info": {
   "codemirror_mode": {
    "name": "ipython",
    "version": 3
   },
   "file_extension": ".py",
   "mimetype": "text/x-python",
   "name": "python",
   "nbconvert_exporter": "python",
   "pygments_lexer": "ipython3",
   "version": "3.7.10"
  }
 },
 "nbformat": 4,
 "nbformat_minor": 5
}
