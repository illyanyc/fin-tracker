{
 "cells": [
  {
   "cell_type": "markdown",
   "id": "e011f887-1a59-4950-b7ff-7a7f08444946",
   "metadata": {},
   "source": [
    "# Backtest"
   ]
  },
  {
   "cell_type": "code",
   "execution_count": null,
   "id": "41de6693-ea92-4479-a491-f7b4fdf527e2",
   "metadata": {},
   "outputs": [],
   "source": [
    "import os\n",
    "import numpy as np\n",
    "import pandas as pd\n",
    "from datetime import date, datetime, timedelta\n",
    "import time\n",
    "\n",
    "import warnings\n",
    "warnings.simplefilter('ignore')"
   ]
  },
  {
   "cell_type": "code",
   "execution_count": null,
   "id": "337a49ae-f36f-454d-ba87-273f23cf12b3",
   "metadata": {},
   "outputs": [],
   "source": [
    "from technicals import TechnicalAnalysis\n",
    "import data.marketdata.alpaca as api"
   ]
  },
  {
   "cell_type": "code",
   "execution_count": null,
   "id": "d967a277-cbc8-458b-bf70-107e3ad74db1",
   "metadata": {},
   "outputs": [],
   "source": [
    "import matplotlib.pyplot as plt"
   ]
  },
  {
   "cell_type": "code",
   "execution_count": null,
   "id": "f0d4d7ac-1cf9-42a7-aa64-46a7a2b395bf",
   "metadata": {},
   "outputs": [],
   "source": [
    "tickers = ['SQ','SSTK','ATVI','GOOG','SYK','VOD','OLN','ARE', 'DIS', 'C']\n",
    "api_key_path = '../resources/api_keys.env'"
   ]
  },
  {
   "cell_type": "code",
   "execution_count": null,
   "id": "d11eb870-9614-47b0-9672-8ffe4c1cca46",
   "metadata": {},
   "outputs": [],
   "source": [
    "ohlcv = api.ohlcv(tickers=tickers, api_key_path=api_key_path)"
   ]
  },
  {
   "cell_type": "code",
   "execution_count": null,
   "id": "f75d0ba9-1e09-49e8-81a7-9a5060b202cf",
   "metadata": {},
   "outputs": [],
   "source": [
    "technicals = TechnicalAnalysis(ohlcv)"
   ]
  },
  {
   "cell_type": "code",
   "execution_count": null,
   "id": "38f69bea-ad20-421d-87c7-0aa5410b5336",
   "metadata": {},
   "outputs": [],
   "source": [
    "print(f\"Open price data for {technicals.tickers()[0]}\")\n",
    "technicals._open(ticker=technicals.tickers()[0]).tail(14).plot(color='black')"
   ]
  },
  {
   "cell_type": "markdown",
   "id": "3f8168e4-b39e-4cee-a8d3-216b745b121b",
   "metadata": {},
   "source": [
    "### *Backtesting Williams %R*"
   ]
  },
  {
   "cell_type": "markdown",
   "id": "16d1570f-5d3c-47b7-b6c8-4080db229298",
   "metadata": {},
   "source": [
    "#### Test class method"
   ]
  },
  {
   "cell_type": "code",
   "execution_count": null,
   "id": "4743ccaa-f9ce-4877-909b-184f4d57f869",
   "metadata": {},
   "outputs": [],
   "source": [
    "#set backtest bounds logic\n",
    "wr_rules = {'long' : -80,\n",
    "             'short' : -70}\n",
    "\n",
    "wr_range = 10\n",
    "\n",
    "# set cash position and tracker\n",
    "seed_cash = 1000000.0"
   ]
  },
  {
   "cell_type": "code",
   "execution_count": null,
   "id": "abef8297-4488-4b48-a048-cd5005a5b6b8",
   "metadata": {},
   "outputs": [],
   "source": [
    "backtest_test = technicals.wr_backtest(ticker = 'SQ',\n",
    "                                       start_date = '2018-01-01',\n",
    "                                       end_date = '2021-05-01',\n",
    "                                       wr_rules = wr_rules,\n",
    "                                       seed_cash = seed_cash,\n",
    "                                       wr_range=wr_range)"
   ]
  },
  {
   "cell_type": "code",
   "execution_count": null,
   "id": "b7c608ba-a6c4-4662-ad0e-977bfec3609b",
   "metadata": {},
   "outputs": [],
   "source": [
    "backtest_test.head()"
   ]
  },
  {
   "cell_type": "code",
   "execution_count": null,
   "id": "624f5b62-4ca5-42bc-b4f1-062f04cc99e1",
   "metadata": {},
   "outputs": [],
   "source": [
    "backtest_test[['Hold','Trade']].plot()"
   ]
  },
  {
   "cell_type": "markdown",
   "id": "b50030f1-d08e-4501-adb8-abb89f8bbae2",
   "metadata": {},
   "source": [
    "### *Backtest study*"
   ]
  },
  {
   "cell_type": "code",
   "execution_count": null,
   "id": "24147049-6661-4657-9263-9fe3e2f4c78a",
   "metadata": {},
   "outputs": [],
   "source": [
    "start_date = '2018-01-01'\n",
    "end_date = '2021-05-01'"
   ]
  },
  {
   "cell_type": "code",
   "execution_count": null,
   "id": "d588d1e3-7ed0-4375-91ff-ff4a07692d7a",
   "metadata": {},
   "outputs": [],
   "source": [
    "# long_params = list(range(-85,-25, 3))\n",
    "long_params = [-81, -80, -79]\n",
    "\n",
    "long_params[:10]"
   ]
  },
  {
   "cell_type": "code",
   "execution_count": null,
   "id": "3fc1a1f9-fee0-494f-9fc5-66b38af59223",
   "metadata": {},
   "outputs": [],
   "source": [
    "# short_params = list(range(-45,-75, -3))\n",
    "short_params = [-69, -70, -71]\n",
    "\n",
    "short_params[:10]"
   ]
  },
  {
   "cell_type": "code",
   "execution_count": null,
   "id": "446d17f4-88cc-465b-86ec-f746a45bd92a",
   "metadata": {},
   "outputs": [],
   "source": [
    "# wr_ranges = [5,10,15,20,30,60,90,180]\n",
    "wr_ranges = [5, 10, 15]\n",
    "\n",
    "wr_ranges"
   ]
  },
  {
   "cell_type": "code",
   "execution_count": null,
   "id": "d6798374-0995-41a3-a4bc-8e27be4bc660",
   "metadata": {},
   "outputs": [],
   "source": [
    "# ticker_paths : dict() of str : Path\n",
    "# exchange = 'nyse'\n",
    "# tickers_df = pd.read_csv(os.path.join('data','tickers', str(exchange + '.csv')))\n",
    "\n",
    "tickers = ['DIS', 'C']\n",
    "\n",
    "# tickers_df = pd.read_csv('data/tickers/finviz-midcap-PE_growth.csv')\n",
    "# tickers = tickers_df[\"Ticker\"].to_list()\n"
   ]
  },
  {
   "cell_type": "code",
   "execution_count": null,
   "id": "2a76bed1-bd38-45e2-b7fa-380ad5999270",
   "metadata": {},
   "outputs": [],
   "source": [
    "def backtest_wr(path):\n",
    "\n",
    "    # instantiate data dump dictionary\n",
    "    data_dump = {}\n",
    "    \n",
    "    # csv header bool\n",
    "    first_time = True\n",
    "\n",
    "    for ticker in tickers:\n",
    "        print(f\"Backtesting : {ticker}\")\n",
    "\n",
    "        # get stock data and clean up df\n",
    "        ohlcv = api.ohlcv(tickers=[ticker],\n",
    "                          api_key_path=api_key_path,\n",
    "                          start_date=start_date,\n",
    "                          end_date=end_date)\n",
    "        \n",
    "        # instantiate a TechnicalAnalysis class\n",
    "        stock = TechnicalAnalysis(ohlcv)\n",
    "        \n",
    "        for wr_range in wr_ranges:\n",
    "            for long in long_params:\n",
    "                for short in short_params:\n",
    "                    \n",
    "                    try:\n",
    "                        result_df = pd.DataFrame(columns=['ticker',\n",
    "                                          'wr_range',\n",
    "                                          'long_trigger',\n",
    "                                          'short_trigger',\n",
    "                                          'hold_return_pct',\n",
    "                                          'trade_return_pct', \n",
    "                                          'delta_return',\n",
    "                                          'delta_return_pct_diff'])\n",
    "\n",
    "                        # set backtest bounds logic\n",
    "                        wr_rules = {'long' : long,\n",
    "                                     'short' : short}\n",
    "\n",
    "                        # set cash position and tracker\n",
    "                        seed_cash = 1000000.0\n",
    "\n",
    "                        # set backtest parameters\n",
    "                        data = stock.wr_backtest(ticker=ticker,\n",
    "                                                 wr_rules = wr_rules,\n",
    "                                                 seed_cash = seed_cash,\n",
    "                                                 wr_range = wr_range,\n",
    "                                                 start_date = start_date,\n",
    "                                                 end_date = end_date)\n",
    "\n",
    "                        init_hold_shares = data.iloc[0]['cash']/data.iloc[0]['close']\n",
    "\n",
    "                        # parse data\n",
    "                        data = data.set_index('time')\n",
    "\n",
    "                        # process results data\n",
    "                        hold_return = (data['Hold'][-1]-data['Hold'][0])/data['Hold'][0]\n",
    "                        trade_return = (data['Trade'][-1]-data['Trade'][0])/data['Trade'][0]\n",
    "                        delta_return = trade_return - hold_return\n",
    "                        pct_delta_return = (trade_return - hold_return)/hold_return\n",
    "\n",
    "\n",
    "                        result = {'ticker' : ticker,\n",
    "                                  'wr_range' : wr_range,\n",
    "                                  'long_trigger' : long,\n",
    "                                  'short_trigger' : short,\n",
    "                                  'hold_return_pct' : hold_return,\n",
    "                                  'trade_return_pct' : trade_return,\n",
    "                                  'delta_return' : delta_return,\n",
    "                                  'delta_return_pct_diff' : pct_delta_return}\n",
    "\n",
    "                        result_df = result_df.append(result, ignore_index=True)\n",
    "\n",
    "                        if first_time:\n",
    "                            result_df.to_csv(path, mode='w')\n",
    "                            first_time = False\n",
    "                        else:\n",
    "                            result_df.to_csv(path, mode='a', header=False)\n",
    "                            \n",
    "                        print(f\"Could not process {ticker} -> W%R range = {wr_range}; long bound = {long}; short bound = {short}\")\n",
    "                        \n",
    "                    except:\n",
    "                        pass\n",
    "\n",
    "        \n",
    "#     return result_df\n",
    "        "
   ]
  },
  {
   "cell_type": "code",
   "execution_count": null,
   "id": "f479f151-399f-4fff-8d9d-2068763c7b43",
   "metadata": {},
   "outputs": [],
   "source": [
    "_path = 'data/results/2021_05_27-test1.csv'"
   ]
  },
  {
   "cell_type": "code",
   "execution_count": null,
   "id": "c2acb848-9938-48eb-a9be-b247248d868c",
   "metadata": {},
   "outputs": [],
   "source": [
    "backtest_wr(_path)"
   ]
  },
  {
   "cell_type": "code",
   "execution_count": null,
   "id": "1d1dcdc5-b26b-4e05-9a4f-d05db0e9c356",
   "metadata": {},
   "outputs": [],
   "source": [
    "df = pd.read_csv(_path)"
   ]
  },
  {
   "cell_type": "code",
   "execution_count": null,
   "id": "5fe42907-3572-40fb-9477-106efe37bdce",
   "metadata": {},
   "outputs": [],
   "source": [
    "df.head()"
   ]
  },
  {
   "cell_type": "code",
   "execution_count": null,
   "id": "4a4709a1-18f3-491a-aa91-a2727cf04028",
   "metadata": {},
   "outputs": [],
   "source": [
    "print(len(df.index))"
   ]
  },
  {
   "cell_type": "code",
   "execution_count": null,
   "id": "3c21f5d8-8071-418b-ba63-90dc46e1c3a8",
   "metadata": {},
   "outputs": [],
   "source": [
    "# df.to_csv('2021_05_25-backtest-midcap-PE_growth.csv')"
   ]
  },
  {
   "cell_type": "code",
   "execution_count": null,
   "id": "9b957025-126e-4d7f-ae2e-9f7ff635e09d",
   "metadata": {},
   "outputs": [],
   "source": [
    "filtered_df = df[df['delta_return_pct_diff'] > 1]\n",
    "filtered_df"
   ]
  },
  {
   "cell_type": "code",
   "execution_count": null,
   "id": "aa2f0538-a594-4b7b-8e41-5260a280b451",
   "metadata": {},
   "outputs": [],
   "source": [
    "len(filtered_df.index)/len(df.index)*100"
   ]
  },
  {
   "cell_type": "code",
   "execution_count": null,
   "id": "bbfbb609-4d65-45a8-a504-e20d0ccf7c2a",
   "metadata": {},
   "outputs": [],
   "source": [
    "filtered_df.describe()"
   ]
  },
  {
   "cell_type": "code",
   "execution_count": null,
   "id": "e2d68c41-522d-4400-a9cc-54fd59f274f2",
   "metadata": {},
   "outputs": [],
   "source": [
    "filtered_df.delta_return_pct_diff.sort_values().plot.hist()"
   ]
  },
  {
   "cell_type": "code",
   "execution_count": null,
   "id": "5cf3086c-918b-4d7a-b9a9-f485cba78e0f",
   "metadata": {},
   "outputs": [],
   "source": [
    "plt.scatter(filtered_df.delta_return_pct_diff, filtered_df.wr_range)"
   ]
  },
  {
   "cell_type": "code",
   "execution_count": null,
   "id": "5c1a743f-4edc-4390-8b03-14fc4fac7f15",
   "metadata": {},
   "outputs": [],
   "source": [
    "plt.scatter(filtered_df.delta_return_pct_diff, filtered_df.long_trigger)"
   ]
  },
  {
   "cell_type": "code",
   "execution_count": null,
   "id": "7e19bc2d-bdc6-4609-af35-e0b82cdb4b82",
   "metadata": {},
   "outputs": [],
   "source": [
    "plt.scatter(filtered_df.delta_return_pct_diff, filtered_df.short_trigger)"
   ]
  },
  {
   "cell_type": "code",
   "execution_count": null,
   "id": "dbacab62-b0ec-4d0a-bca4-e40cc354a4d3",
   "metadata": {},
   "outputs": [],
   "source": []
  },
  {
   "cell_type": "code",
   "execution_count": null,
   "id": "938e8a95-c1b6-4f96-b45f-64a87d858aa3",
   "metadata": {},
   "outputs": [],
   "source": []
  },
  {
   "cell_type": "code",
   "execution_count": null,
   "id": "3a901686-ad46-4862-a2f5-b525e3740692",
   "metadata": {},
   "outputs": [],
   "source": []
  },
  {
   "cell_type": "code",
   "execution_count": null,
   "id": "ac3cf982-db32-4289-a2b1-8ecdb5773f57",
   "metadata": {},
   "outputs": [],
   "source": []
  },
  {
   "cell_type": "code",
   "execution_count": null,
   "id": "dbc27625-f8a2-4082-b750-bde8e209c5db",
   "metadata": {},
   "outputs": [],
   "source": []
  }
 ],
 "metadata": {
  "kernelspec": {
   "display_name": "Python 3",
   "language": "python",
   "name": "python3"
  },
  "language_info": {
   "codemirror_mode": {
    "name": "ipython",
    "version": 3
   },
   "file_extension": ".py",
   "mimetype": "text/x-python",
   "name": "python",
   "nbconvert_exporter": "python",
   "pygments_lexer": "ipython3",
   "version": "3.7.10"
  }
 },
 "nbformat": 4,
 "nbformat_minor": 5
}
