{
 "cells": [
  {
   "cell_type": "markdown",
   "id": "e011f887-1a59-4950-b7ff-7a7f08444946",
   "metadata": {},
   "source": [
    "# Backtest"
   ]
  },
  {
   "cell_type": "code",
   "execution_count": 1,
   "id": "41de6693-ea92-4479-a491-f7b4fdf527e2",
   "metadata": {},
   "outputs": [],
   "source": [
    "import numpy as np\n",
    "import pandas as pd"
   ]
  },
  {
   "cell_type": "code",
   "execution_count": 2,
   "id": "303e8c85-ff45-4317-9dc7-73c087256df3",
   "metadata": {},
   "outputs": [],
   "source": [
    "from technicals import TechnicalAnalysis\n",
    "import data.marketdata.alpaca as api"
   ]
  },
  {
   "cell_type": "code",
   "execution_count": 10,
   "id": "f0d4d7ac-1cf9-42a7-aa64-46a7a2b395bf",
   "metadata": {},
   "outputs": [],
   "source": [
    "tickers = ['FB','AAPL','AMZN','NFLX','GOOG']\n",
    "api_key_path = '../resources/api_keys.env'"
   ]
  },
  {
   "cell_type": "code",
   "execution_count": 11,
   "id": "d11eb870-9614-47b0-9672-8ffe4c1cca46",
   "metadata": {},
   "outputs": [
    {
     "name": "stdout",
     "output_type": "stream",
     "text": [
      "Testing Apaca Trade API key by data type:\n",
      "ALPACA_API_KEY: <class 'str'>\n",
      "ALPACA_SECRET_KEY: <class 'str'>\n"
     ]
    }
   ],
   "source": [
    "ohlcv = api.ohlcv(tickers=tickers, api_key_path=api_key_path)"
   ]
  },
  {
   "cell_type": "code",
   "execution_count": 12,
   "id": "f75d0ba9-1e09-49e8-81a7-9a5060b202cf",
   "metadata": {},
   "outputs": [],
   "source": [
    "technicals = TechnicalAnalysis(ohlcv)"
   ]
  },
  {
   "cell_type": "code",
   "execution_count": 13,
   "id": "38f69bea-ad20-421d-87c7-0aa5410b5336",
   "metadata": {},
   "outputs": [
    {
     "name": "stdout",
     "output_type": "stream",
     "text": [
      "Open price data for AAPL\n"
     ]
    },
    {
     "data": {
      "text/plain": [
       "<AxesSubplot:xlabel='time'>"
      ]
     },
     "execution_count": 13,
     "metadata": {},
     "output_type": "execute_result"
    },
    {
     "data": {
      "image/png": "[encoded data removed]",
      "text/plain": [
       "<Figure size 432x288 with 1 Axes>"
      ]
     },
     "metadata": {
      "needs_background": "light"
     },
     "output_type": "display_data"
    }
   ],
   "source": [
    "print(f\"Open price data for {technicals.tickers()[0]}\")\n",
    "technicals._open(ticker=technicals.tickers()[0]).tail(14).plot(color='black')"
   ]
  },
  {
   "cell_type": "markdown",
   "id": "3f8168e4-b39e-4cee-a8d3-216b745b121b",
   "metadata": {},
   "source": [
    "### *Backtesting Williams %R*"
   ]
  },
  {
   "cell_type": "code",
   "execution_count": 15,
   "id": "03360eee-e866-42a1-bc95-5542c1d2018a",
   "metadata": {},
   "outputs": [],
   "source": [
    "# set backtest bounds logic\n",
    "wr_bounds = {'long' : {0: ['>',50]},\n",
    "             'short' : {0: ['<', 50]}\n",
    "            }"
   ]
  },
  {
   "cell_type": "code",
   "execution_count": 14,
   "id": "80dfea09-cf16-411b-ba49-5fbab26d0538",
   "metadata": {},
   "outputs": [],
   "source": [
    "# set cash position and tracker\n",
    "seed_cash = 1000000.0\n"
   ]
  },
  {
   "cell_type": "code",
   "execution_count": 17,
   "id": "35b81c01-d88a-4613-a45d-1ec93a8f5d47",
   "metadata": {},
   "outputs": [],
   "source": [
    "def wr_backtest(close : pd.DataFrame,\n",
    "                wr_bounds : dict,\n",
    "                seed_cash = int or float):\n",
    "    \n",
    "    '''\n",
    "    Returns open price for ticker\n",
    "        \n",
    "        Parameters\n",
    "        ----------\n",
    "        close : pd.DataFrame\n",
    "            close price data to be processed\n",
    "        wr_bounds : dict\n",
    "            dictionary of rules for backtest, keys:\n",
    "                'long' : dict\n",
    "                    set of rules for long position\n",
    "                'short' : dict\n",
    "                    set of rules for short position\n",
    "                'period' : int\n",
    "                    look-back period for backtest\n",
    "\n",
    "        Returns\n",
    "        -------\n",
    "        df : DataFrame\n",
    "            position values in $USD\n",
    "    '''\n",
    "    \n",
    "    pass"
   ]
  },
  {
   "cell_type": "code",
   "execution_count": null,
   "id": "76265756-bd9e-4243-a104-1944fe0561bf",
   "metadata": {},
   "outputs": [],
   "source": []
  }
 ],
 "metadata": {
  "kernelspec": {
   "display_name": "Python 3",
   "language": "python",
   "name": "python3"
  },
  "language_info": {
   "codemirror_mode": {
    "name": "ipython",
    "version": 3
   },
   "file_extension": ".py",
   "mimetype": "text/x-python",
   "name": "python",
   "nbconvert_exporter": "python",
   "pygments_lexer": "ipython3",
   "version": "3.7.10"
  }
 },
 "nbformat": 4,
 "nbformat_minor": 5
}
