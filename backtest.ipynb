{
 "cells": [
  {
   "cell_type": "markdown",
   "id": "0d070781",
   "metadata": {},
   "source": [
    "# Backtest"
   ]
  },
  {
   "cell_type": "code",
   "execution_count": 1,
   "id": "736abf2f",
   "metadata": {},
   "outputs": [],
   "source": [
    "import os, time, logging\n",
    "from datetime import date, datetime, timedelta\n",
    "\n",
    "import numpy as np\n",
    "import pandas as pd\n",
    "\n",
    "import warnings\n",
    "warnings.simplefilter('ignore')"
   ]
  },
  {
   "cell_type": "code",
   "execution_count": 2,
   "id": "76d9cfcc",
   "metadata": {},
   "outputs": [],
   "source": [
    "from technicals import TechnicalAnalysis\n",
    "import data.marketdata.alpaca as api\n",
    "import data.io.twilio as tw"
   ]
  },
  {
   "cell_type": "code",
   "execution_count": 3,
   "id": "06b29bd2",
   "metadata": {},
   "outputs": [],
   "source": [
    "import matplotlib.pyplot as plt"
   ]
  },
  {
   "cell_type": "code",
   "execution_count": 4,
   "id": "8a666822",
   "metadata": {},
   "outputs": [],
   "source": [
    "api_key_path = '../resources/api_keys.env'"
   ]
  },
  {
   "cell_type": "code",
   "execution_count": 5,
   "id": "8e5a522d",
   "metadata": {},
   "outputs": [],
   "source": [
    "tickers=['SYK','C','MSFT']\n",
    "ohlcv = api.ohlcv(tickers=tickers, api_key_path=api_key_path)"
   ]
  },
  {
   "cell_type": "code",
   "execution_count": 6,
   "id": "91de999e",
   "metadata": {},
   "outputs": [],
   "source": [
    "technicals = TechnicalAnalysis(ohlcv)"
   ]
  },
  {
   "cell_type": "code",
   "execution_count": 7,
   "id": "0a6c2184",
   "metadata": {},
   "outputs": [
    {
     "name": "stdout",
     "output_type": "stream",
     "text": [
      "Open price data for C\n"
     ]
    },
    {
     "data": {
      "text/plain": [
       "<AxesSubplot:xlabel='time'>"
      ]
     },
     "execution_count": 7,
     "metadata": {},
     "output_type": "execute_result"
    },
    {
     "data": {
      "image/png": "[encoded data removed]",
      "text/plain": [
       "<Figure size 432x288 with 1 Axes>"
      ]
     },
     "metadata": {
      "needs_background": "light"
     },
     "output_type": "display_data"
    }
   ],
   "source": [
    "print(f\"Open price data for {technicals.tickers()[0]}\")\n",
    "technicals._open(ticker=technicals.tickers()[0]).tail(14).plot(color='black')"
   ]
  },
  {
   "cell_type": "markdown",
   "id": "7540fc91",
   "metadata": {},
   "source": [
    "### *Backtesting Williams %R*"
   ]
  },
  {
   "cell_type": "markdown",
   "id": "46e17f2f",
   "metadata": {},
   "source": [
    "#### Test class method"
   ]
  },
  {
   "cell_type": "code",
   "execution_count": 8,
   "id": "428d86ce",
   "metadata": {},
   "outputs": [],
   "source": [
    "# set backtest bounds logic\n",
    "wr_rules = {'long' : -80,\n",
    "             'short' : -70}\n",
    "\n",
    "# set Williams %R range\n",
    "wr_range = 10\n",
    "\n",
    "# set cash position and tracker\n",
    "seed_cash = 1000000.0"
   ]
  },
  {
   "cell_type": "code",
   "execution_count": 14,
   "id": "006cc444",
   "metadata": {},
   "outputs": [],
   "source": [
    "backtest_test = technicals.wr_backtest(ticker = 'SYK',\n",
    "                                       start_date = '2018-01-01',\n",
    "                                       end_date = '2021-05-01',\n",
    "                                       wr_rules = wr_rules,\n",
    "                                       seed_cash = seed_cash,\n",
    "                                       wr_range=wr_range)"
   ]
  },
  {
   "cell_type": "code",
   "execution_count": 15,
   "id": "619d2b74",
   "metadata": {},
   "outputs": [
    {
     "data": {
      "text/html": [
       "<div>\n",
       "<style scoped>\n",
       "    .dataframe tbody tr th:only-of-type {\n",
       "        vertical-align: middle;\n",
       "    }\n",
       "\n",
       "    .dataframe tbody tr th {\n",
       "        vertical-align: top;\n",
       "    }\n",
       "\n",
       "    .dataframe thead th {\n",
       "        text-align: right;\n",
       "    }\n",
       "</style>\n",
       "<table border=\"1\" class=\"dataframe\">\n",
       "  <thead>\n",
       "    <tr style=\"text-align: right;\">\n",
       "      <th></th>\n",
       "      <th>time</th>\n",
       "      <th>close</th>\n",
       "      <th>wr</th>\n",
       "      <th>pos</th>\n",
       "      <th>stock_value</th>\n",
       "      <th>shares</th>\n",
       "      <th>cash</th>\n",
       "      <th>Hold</th>\n",
       "      <th>Trade</th>\n",
       "    </tr>\n",
       "  </thead>\n",
       "  <tbody>\n",
       "    <tr>\n",
       "      <th>0</th>\n",
       "      <td>2020-01-16 00:00:00-05:00</td>\n",
       "      <td>209.43</td>\n",
       "      <td>-48.728246</td>\n",
       "      <td>False</td>\n",
       "      <td>0</td>\n",
       "      <td>0</td>\n",
       "      <td>1000000</td>\n",
       "      <td>1.000000e+06</td>\n",
       "      <td>1000000</td>\n",
       "    </tr>\n",
       "    <tr>\n",
       "      <th>1</th>\n",
       "      <td>2020-01-17 00:00:00-05:00</td>\n",
       "      <td>212.12</td>\n",
       "      <td>-40.347667</td>\n",
       "      <td>False</td>\n",
       "      <td>0</td>\n",
       "      <td>0</td>\n",
       "      <td>1000000</td>\n",
       "      <td>1.012844e+06</td>\n",
       "      <td>1000000</td>\n",
       "    </tr>\n",
       "    <tr>\n",
       "      <th>2</th>\n",
       "      <td>2020-01-21 00:00:00-05:00</td>\n",
       "      <td>214.62</td>\n",
       "      <td>-17.474840</td>\n",
       "      <td>False</td>\n",
       "      <td>0</td>\n",
       "      <td>0</td>\n",
       "      <td>1000000</td>\n",
       "      <td>1.024782e+06</td>\n",
       "      <td>1000000</td>\n",
       "    </tr>\n",
       "    <tr>\n",
       "      <th>3</th>\n",
       "      <td>2020-01-22 00:00:00-05:00</td>\n",
       "      <td>217.09</td>\n",
       "      <td>-6.433225</td>\n",
       "      <td>False</td>\n",
       "      <td>0</td>\n",
       "      <td>0</td>\n",
       "      <td>1000000</td>\n",
       "      <td>1.036575e+06</td>\n",
       "      <td>1000000</td>\n",
       "    </tr>\n",
       "    <tr>\n",
       "      <th>4</th>\n",
       "      <td>2020-01-23 00:00:00-05:00</td>\n",
       "      <td>216.29</td>\n",
       "      <td>-16.484375</td>\n",
       "      <td>False</td>\n",
       "      <td>0</td>\n",
       "      <td>0</td>\n",
       "      <td>1000000</td>\n",
       "      <td>1.032756e+06</td>\n",
       "      <td>1000000</td>\n",
       "    </tr>\n",
       "  </tbody>\n",
       "</table>\n",
       "</div>"
      ],
      "text/plain": [
       "                       time   close         wr    pos  stock_value  shares  \\\n",
       "0 2020-01-16 00:00:00-05:00  209.43 -48.728246  False            0       0   \n",
       "1 2020-01-17 00:00:00-05:00  212.12 -40.347667  False            0       0   \n",
       "2 2020-01-21 00:00:00-05:00  214.62 -17.474840  False            0       0   \n",
       "3 2020-01-22 00:00:00-05:00  217.09  -6.433225  False            0       0   \n",
       "4 2020-01-23 00:00:00-05:00  216.29 -16.484375  False            0       0   \n",
       "\n",
       "      cash          Hold    Trade  \n",
       "0  1000000  1.000000e+06  1000000  \n",
       "1  1000000  1.012844e+06  1000000  \n",
       "2  1000000  1.024782e+06  1000000  \n",
       "3  1000000  1.036575e+06  1000000  \n",
       "4  1000000  1.032756e+06  1000000  "
      ]
     },
     "execution_count": 15,
     "metadata": {},
     "output_type": "execute_result"
    }
   ],
   "source": [
    "backtest_test.head()"
   ]
  },
  {
   "cell_type": "code",
   "execution_count": 16,
   "id": "8b1c1c5e",
   "metadata": {},
   "outputs": [
    {
     "name": "stdout",
     "output_type": "stream",
     "text": [
      "hold_return_pct = 0.21\n",
      "trade_return_pct = 0.36\n",
      "delta_return = 0.15\n",
      "delta_return_pct_diff = 0.75\n"
     ]
    }
   ],
   "source": [
    "# Additional processing\n",
    "init_hold_shares = backtest_test.iloc[0]['cash']/backtest_test.iloc[0]['close']\n",
    "\n",
    "# parse data\n",
    "backtest_test = backtest_test.set_index('time')\n",
    "\n",
    "# process results data\n",
    "hold_return = (backtest_test['Hold'][-1]-backtest_test['Hold'][0])/backtest_test['Hold'][0]\n",
    "trade_return = (backtest_test['Trade'][-1]-backtest_test['Trade'][0])/backtest_test['Trade'][0]\n",
    "delta_return = trade_return - hold_return\n",
    "pct_delta_return = (trade_return - hold_return)/hold_return\n",
    "\n",
    "\n",
    "print(f'hold_return_pct = {round(hold_return,2)}')\n",
    "print(f'trade_return_pct = {round(trade_return,2)}')\n",
    "print(f'delta_return = {round(delta_return,2)}')\n",
    "print(f'delta_return_pct_diff = {round(pct_delta_return,2)}')"
   ]
  },
  {
   "cell_type": "code",
   "execution_count": 17,
   "id": "e7de7f39",
   "metadata": {},
   "outputs": [
    {
     "data": {
      "text/plain": [
       "<AxesSubplot:xlabel='time'>"
      ]
     },
     "execution_count": 17,
     "metadata": {},
     "output_type": "execute_result"
    },
    {
     "data": {
      "image/png": "[encoded data removed]",
      "text/plain": [
       "<Figure size 432x288 with 1 Axes>"
      ]
     },
     "metadata": {
      "needs_background": "light"
     },
     "output_type": "display_data"
    }
   ],
   "source": [
    "backtest_test[['Hold','Trade']].plot()"
   ]
  },
  {
   "cell_type": "code",
   "execution_count": null,
   "id": "83463ce9",
   "metadata": {},
   "outputs": [],
   "source": []
  }
 ],
 "metadata": {
  "kernelspec": {
   "display_name": "Python 3",
   "language": "python",
   "name": "python3"
  },
  "language_info": {
   "codemirror_mode": {
    "name": "ipython",
    "version": 3
   },
   "file_extension": ".py",
   "mimetype": "text/x-python",
   "name": "python",
   "nbconvert_exporter": "python",
   "pygments_lexer": "ipython3",
   "version": "3.7.10"
  }
 },
 "nbformat": 4,
 "nbformat_minor": 5
}
