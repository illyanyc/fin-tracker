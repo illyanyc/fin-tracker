{
 "cells": [
  {
   "cell_type": "markdown",
   "id": "178dde01",
   "metadata": {},
   "source": [
    "# Backtest"
   ]
  },
  {
   "cell_type": "code",
   "execution_count": 1,
   "id": "4eb78a81",
   "metadata": {},
   "outputs": [],
   "source": [
    "import os, time, logging\n",
    "from datetime import date, datetime, timedelta\n",
    "\n",
    "import numpy as np\n",
    "import pandas as pd\n",
    "\n",
    "import warnings\n",
    "warnings.simplefilter('ignore')"
   ]
  },
  {
   "cell_type": "code",
   "execution_count": 2,
   "id": "5ccdeee2",
   "metadata": {},
   "outputs": [],
   "source": [
    "from technicals import TechnicalAnalysis\n",
    "import data.marketdata.alpaca as api\n",
    "import data.io.twilio as tw"
   ]
  },
  {
   "cell_type": "code",
   "execution_count": 3,
   "id": "523fadfa",
   "metadata": {},
   "outputs": [],
   "source": [
    "import matplotlib.pyplot as plt"
   ]
  },
  {
   "cell_type": "code",
   "execution_count": 4,
   "id": "b6259566",
   "metadata": {},
   "outputs": [],
   "source": [
    "tickers = ['SQ','SSTK','ATVI','GOOG','SYK','VOD','OLN','ARE', 'DIS', 'C']\n",
    "api_key_path = '../resources/api_keys.env'"
   ]
  },
  {
   "cell_type": "code",
   "execution_count": 5,
   "id": "fd64ed9c",
   "metadata": {},
   "outputs": [],
   "source": [
    "ohlcv = api.ohlcv(tickers=tickers, api_key_path=api_key_path)"
   ]
  },
  {
   "cell_type": "code",
   "execution_count": 6,
   "id": "6c05ebdb",
   "metadata": {},
   "outputs": [],
   "source": [
    "technicals = TechnicalAnalysis(ohlcv)"
   ]
  },
  {
   "cell_type": "code",
   "execution_count": 7,
   "id": "13789e36",
   "metadata": {},
   "outputs": [
    {
     "name": "stdout",
     "output_type": "stream",
     "text": [
      "Open price data for ARE\n"
     ]
    },
    {
     "data": {
      "text/plain": [
       "<AxesSubplot:xlabel='time'>"
      ]
     },
     "execution_count": 7,
     "metadata": {},
     "output_type": "execute_result"
    },
    {
     "data": {
      "image/png": "[encoded data removed]",
      "text/plain": [
       "<Figure size 432x288 with 1 Axes>"
      ]
     },
     "metadata": {
      "needs_background": "light"
     },
     "output_type": "display_data"
    }
   ],
   "source": [
    "print(f\"Open price data for {technicals.tickers()[0]}\")\n",
    "technicals._open(ticker=technicals.tickers()[0]).tail(14).plot(color='black')"
   ]
  },
  {
   "cell_type": "markdown",
   "id": "93f9b317",
   "metadata": {},
   "source": [
    "### *Backtesting Williams %R*"
   ]
  },
  {
   "cell_type": "markdown",
   "id": "ce3394f2",
   "metadata": {},
   "source": [
    "#### Test class method"
   ]
  },
  {
   "cell_type": "code",
   "execution_count": 8,
   "id": "605b331a",
   "metadata": {},
   "outputs": [],
   "source": [
    "#set backtest bounds logic\n",
    "wr_rules = {'long' : -80,\n",
    "             'short' : -70}\n",
    "\n",
    "wr_range = 10\n",
    "\n",
    "# set cash position and tracker\n",
    "seed_cash = 1000000.0"
   ]
  },
  {
   "cell_type": "code",
   "execution_count": 9,
   "id": "c3a9867c",
   "metadata": {},
   "outputs": [],
   "source": [
    "backtest_test = technicals.wr_backtest(ticker = 'SQ',\n",
    "                                       start_date = '2018-01-01',\n",
    "                                       end_date = '2021-05-01',\n",
    "                                       wr_rules = wr_rules,\n",
    "                                       seed_cash = seed_cash,\n",
    "                                       wr_range=wr_range)"
   ]
  },
  {
   "cell_type": "code",
   "execution_count": 10,
   "id": "3112b0ff",
   "metadata": {},
   "outputs": [
    {
     "data": {
      "text/html": [
       "<div>\n",
       "<style scoped>\n",
       "    .dataframe tbody tr th:only-of-type {\n",
       "        vertical-align: middle;\n",
       "    }\n",
       "\n",
       "    .dataframe tbody tr th {\n",
       "        vertical-align: top;\n",
       "    }\n",
       "\n",
       "    .dataframe thead th {\n",
       "        text-align: right;\n",
       "    }\n",
       "</style>\n",
       "<table border=\"1\" class=\"dataframe\">\n",
       "  <thead>\n",
       "    <tr style=\"text-align: right;\">\n",
       "      <th></th>\n",
       "      <th>time</th>\n",
       "      <th>close</th>\n",
       "      <th>wr</th>\n",
       "      <th>pos</th>\n",
       "      <th>stock_value</th>\n",
       "      <th>shares</th>\n",
       "      <th>cash</th>\n",
       "      <th>Hold</th>\n",
       "      <th>Trade</th>\n",
       "    </tr>\n",
       "  </thead>\n",
       "  <tbody>\n",
       "    <tr>\n",
       "      <th>0</th>\n",
       "      <td>2020-01-16 00:00:00-05:00</td>\n",
       "      <td>69.53</td>\n",
       "      <td>-14.893617</td>\n",
       "      <td>False</td>\n",
       "      <td>0</td>\n",
       "      <td>0</td>\n",
       "      <td>1000000</td>\n",
       "      <td>1000000.000000</td>\n",
       "      <td>1000000</td>\n",
       "    </tr>\n",
       "    <tr>\n",
       "      <th>1</th>\n",
       "      <td>2020-01-17 00:00:00-05:00</td>\n",
       "      <td>69.38</td>\n",
       "      <td>-16.413374</td>\n",
       "      <td>False</td>\n",
       "      <td>0</td>\n",
       "      <td>0</td>\n",
       "      <td>1000000</td>\n",
       "      <td>997842.657846</td>\n",
       "      <td>1000000</td>\n",
       "    </tr>\n",
       "    <tr>\n",
       "      <th>2</th>\n",
       "      <td>2020-01-21 00:00:00-05:00</td>\n",
       "      <td>68.31</td>\n",
       "      <td>-36.648501</td>\n",
       "      <td>False</td>\n",
       "      <td>0</td>\n",
       "      <td>0</td>\n",
       "      <td>1000000</td>\n",
       "      <td>982453.617144</td>\n",
       "      <td>1000000</td>\n",
       "    </tr>\n",
       "    <tr>\n",
       "      <th>3</th>\n",
       "      <td>2020-01-22 00:00:00-05:00</td>\n",
       "      <td>68.69</td>\n",
       "      <td>-33.722628</td>\n",
       "      <td>False</td>\n",
       "      <td>0</td>\n",
       "      <td>0</td>\n",
       "      <td>1000000</td>\n",
       "      <td>987918.883935</td>\n",
       "      <td>1000000</td>\n",
       "    </tr>\n",
       "    <tr>\n",
       "      <th>4</th>\n",
       "      <td>2020-01-23 00:00:00-05:00</td>\n",
       "      <td>69.29</td>\n",
       "      <td>-39.767442</td>\n",
       "      <td>False</td>\n",
       "      <td>0</td>\n",
       "      <td>0</td>\n",
       "      <td>1000000</td>\n",
       "      <td>996548.252553</td>\n",
       "      <td>1000000</td>\n",
       "    </tr>\n",
       "  </tbody>\n",
       "</table>\n",
       "</div>"
      ],
      "text/plain": [
       "                       time  close         wr    pos  stock_value  shares  \\\n",
       "0 2020-01-16 00:00:00-05:00  69.53 -14.893617  False            0       0   \n",
       "1 2020-01-17 00:00:00-05:00  69.38 -16.413374  False            0       0   \n",
       "2 2020-01-21 00:00:00-05:00  68.31 -36.648501  False            0       0   \n",
       "3 2020-01-22 00:00:00-05:00  68.69 -33.722628  False            0       0   \n",
       "4 2020-01-23 00:00:00-05:00  69.29 -39.767442  False            0       0   \n",
       "\n",
       "      cash            Hold    Trade  \n",
       "0  1000000  1000000.000000  1000000  \n",
       "1  1000000   997842.657846  1000000  \n",
       "2  1000000   982453.617144  1000000  \n",
       "3  1000000   987918.883935  1000000  \n",
       "4  1000000   996548.252553  1000000  "
      ]
     },
     "execution_count": 10,
     "metadata": {},
     "output_type": "execute_result"
    }
   ],
   "source": [
    "backtest_test.head()"
   ]
  },
  {
   "cell_type": "code",
   "execution_count": 11,
   "id": "3e8ed161",
   "metadata": {},
   "outputs": [
    {
     "data": {
      "text/plain": [
       "<AxesSubplot:>"
      ]
     },
     "execution_count": 11,
     "metadata": {},
     "output_type": "execute_result"
    },
    {
     "data": {
      "image/png": "[encoded data removed]",
      "text/plain": [
       "<Figure size 432x288 with 1 Axes>"
      ]
     },
     "metadata": {
      "needs_background": "light"
     },
     "output_type": "display_data"
    }
   ],
   "source": [
    "backtest_test[['Hold','Trade']].plot()"
   ]
  },
  {
   "cell_type": "markdown",
   "id": "5f6bfd1b",
   "metadata": {},
   "source": [
    "### *Backtest study*"
   ]
  },
  {
   "cell_type": "code",
   "execution_count": 12,
   "id": "d864d68e",
   "metadata": {},
   "outputs": [],
   "source": [
    "start_date = '2018-01-01'\n",
    "end_date = '2021-05-01'"
   ]
  },
  {
   "cell_type": "code",
   "execution_count": 13,
   "id": "72c9ccad",
   "metadata": {},
   "outputs": [
    {
     "data": {
      "text/plain": [
       "[-85, -82, -79, -76, -73, -70, -67, -64, -61, -58]"
      ]
     },
     "execution_count": 13,
     "metadata": {},
     "output_type": "execute_result"
    }
   ],
   "source": [
    "long_params = list(range(-85,-25, 3))\n",
    "# long_params = [-81, -80, -79]\n",
    "\n",
    "long_params[:10]"
   ]
  },
  {
   "cell_type": "code",
   "execution_count": 14,
   "id": "641eb48d",
   "metadata": {},
   "outputs": [
    {
     "data": {
      "text/plain": [
       "[-45, -48, -51, -54, -57, -60, -63, -66, -69, -72]"
      ]
     },
     "execution_count": 14,
     "metadata": {},
     "output_type": "execute_result"
    }
   ],
   "source": [
    "short_params = list(range(-45,-75, -3))\n",
    "# short_params = [-69, -70, -71]\n",
    "\n",
    "short_params[:10]"
   ]
  },
  {
   "cell_type": "code",
   "execution_count": 15,
   "id": "ec119c2b",
   "metadata": {},
   "outputs": [
    {
     "data": {
      "text/plain": [
       "[5, 10, 15, 20, 30, 60, 90, 180]"
      ]
     },
     "execution_count": 15,
     "metadata": {},
     "output_type": "execute_result"
    }
   ],
   "source": [
    "wr_ranges = [5,10,15,20,30,60,90,180]\n",
    "# wr_ranges = [5, 10, 15]\n",
    "\n",
    "wr_ranges"
   ]
  },
  {
   "cell_type": "code",
   "execution_count": 16,
   "id": "29c23ea3",
   "metadata": {},
   "outputs": [],
   "source": [
    "# ticker_paths : dict() of str : Path\n",
    "# exchange = 'nyse'\n",
    "# tickers_df = pd.read_csv(os.path.join('data','tickers', str(exchange + '.csv')))\n",
    "\n",
    "# tickers = ['DIS', 'C']\n",
    "\n",
    "tickers_df = pd.read_csv('data/tickers/finviz-midcap-PE_growth.csv')\n",
    "tickers = tickers_df[\"Ticker\"].to_list()"
   ]
  },
  {
   "cell_type": "code",
   "execution_count": 17,
   "id": "a70da362",
   "metadata": {},
   "outputs": [
    {
     "name": "stdin",
     "output_type": "stream",
     "text": [
      " +17183002567\n"
     ]
    }
   ],
   "source": [
    "# Load Twillio progress reporting\n",
    "to_phone = input()\n",
    "tw.load_twilio_api(api_key_path)\n",
    "tw.send_message(message = f\"Backtest Begins | {str(date.today())}\", to_phone = to_phone)"
   ]
  },
  {
   "cell_type": "code",
   "execution_count": 18,
   "id": "785bcc1f",
   "metadata": {},
   "outputs": [],
   "source": [
    "def backtest_wr(path):\n",
    "\n",
    "    # instantiate data dump dictionary\n",
    "    data_dump = {}\n",
    "    \n",
    "    # csv header bool\n",
    "    first_time = True\n",
    "    \n",
    "    # ticker counter\n",
    "    counter = 1\n",
    "\n",
    "    for ticker in tickers:\n",
    "        \n",
    "        date_ = str(date.today())\n",
    "        time_ = str(datetime.now().strftime(\"%H:%M:%S\"))\n",
    "        message = f\"Backtesting : {ticker} | {int((counter-1/len(tickers))*100)}% Complete | {date_} {time_}\"\n",
    "        tw.send_message(message = message, to_phone = to_phone)\n",
    "        print(message)\n",
    "        counter += 1\n",
    "        \n",
    "        # get stock data and clean up df\n",
    "        ohlcv = api.ohlcv(tickers=[ticker],\n",
    "                          api_key_path=api_key_path,\n",
    "                          start_date=start_date,\n",
    "                          end_date=end_date)\n",
    "        \n",
    "        # instantiate a TechnicalAnalysis class\n",
    "        stock = TechnicalAnalysis(ohlcv)\n",
    "        \n",
    "        for wr_range in wr_ranges:\n",
    "            for long in long_params:\n",
    "                for short in short_params:\n",
    "                    \n",
    "                    try:\n",
    "                        result_df = pd.DataFrame(columns=['ticker',\n",
    "                                          'wr_range',\n",
    "                                          'long_trigger',\n",
    "                                          'short_trigger',\n",
    "                                          'hold_return_pct',\n",
    "                                          'trade_return_pct', \n",
    "                                          'delta_return',\n",
    "                                          'delta_return_pct_diff'])\n",
    "\n",
    "                        # set backtest bounds logic\n",
    "                        wr_rules = {'long' : long,\n",
    "                                     'short' : short}\n",
    "\n",
    "                        # set cash position and tracker\n",
    "                        seed_cash = 1000000.0\n",
    "\n",
    "                        # set backtest parameters\n",
    "                        data = stock.wr_backtest(ticker=ticker,\n",
    "                                                 wr_rules = wr_rules,\n",
    "                                                 seed_cash = seed_cash,\n",
    "                                                 wr_range = wr_range,\n",
    "                                                 start_date = start_date,\n",
    "                                                 end_date = end_date)\n",
    "\n",
    "                        init_hold_shares = data.iloc[0]['cash']/data.iloc[0]['close']\n",
    "\n",
    "                        # parse data\n",
    "                        data = data.set_index('time')\n",
    "\n",
    "                        # process results data\n",
    "                        hold_return = (data['Hold'][-1]-data['Hold'][0])/data['Hold'][0]\n",
    "                        trade_return = (data['Trade'][-1]-data['Trade'][0])/data['Trade'][0]\n",
    "                        delta_return = trade_return - hold_return\n",
    "                        pct_delta_return = (trade_return - hold_return)/hold_return\n",
    "\n",
    "\n",
    "                        result = {'ticker' : ticker,\n",
    "                                  'wr_range' : wr_range,\n",
    "                                  'long_trigger' : long,\n",
    "                                  'short_trigger' : short,\n",
    "                                  'hold_return_pct' : hold_return,\n",
    "                                  'trade_return_pct' : trade_return,\n",
    "                                  'delta_return' : delta_return,\n",
    "                                  'delta_return_pct_diff' : pct_delta_return}\n",
    "\n",
    "                        result_df = result_df.append(result, ignore_index=True)\n",
    "\n",
    "                        if first_time:\n",
    "                            result_df.to_csv(path, mode='w')\n",
    "                            first_time = False\n",
    "                        else:\n",
    "                            result_df.to_csv(path, mode='a', header=False)    \n",
    "                            \n",
    "                    except:\n",
    "                        print(f\"Could not process {ticker} -> W%R range = {wr_range}; long bound = {long}; short bound = {short}\")\n",
    "                        \n",
    "    \n",
    "    \n",
    "    date_ = str(date.today())\n",
    "    time_ = str(datetime.now().strftime(\"%H:%M:%S\"))\n",
    "    message = f\"Backtesting : Complete | 100% Complete | {date_} {time_}\"\n",
    "    tw.send_message(message = message, to_phone = to_phone)\n",
    "    print(message)"
   ]
  },
  {
   "cell_type": "code",
   "execution_count": 19,
   "id": "3915d95f",
   "metadata": {},
   "outputs": [],
   "source": [
    "_path = 'data/results/2021_05_27-backtest-midcap_PE_growth.csv'"
   ]
  },
  {
   "cell_type": "code",
   "execution_count": null,
   "id": "d30a4f79",
   "metadata": {},
   "outputs": [
    {
     "name": "stdout",
     "output_type": "stream",
     "text": [
      "Backtesting : APPF | 3% Complete | 2021-05-27 19:47:03\n",
      "Could not process APPF -> W%R range = 5; long bound = -76; short bound = -63\n"
     ]
    }
   ],
   "source": [
    "backtest_wr(_path)"
   ]
  },
  {
   "cell_type": "code",
   "execution_count": null,
   "id": "bd7269c1",
   "metadata": {},
   "outputs": [],
   "source": [
    "df = pd.read_csv(_path)"
   ]
  },
  {
   "cell_type": "code",
   "execution_count": null,
   "id": "4dbf84ee",
   "metadata": {},
   "outputs": [],
   "source": [
    "df.head()"
   ]
  },
  {
   "cell_type": "code",
   "execution_count": null,
   "id": "0e282821",
   "metadata": {},
   "outputs": [],
   "source": [
    "print(len(df.index))"
   ]
  },
  {
   "cell_type": "code",
   "execution_count": null,
   "id": "9a845c12",
   "metadata": {},
   "outputs": [],
   "source": [
    "# df.to_csv('2021_05_25-backtest-midcap-PE_growth.csv')"
   ]
  },
  {
   "cell_type": "code",
   "execution_count": null,
   "id": "1fed9f95",
   "metadata": {},
   "outputs": [],
   "source": [
    "filtered_df = df[df['delta_return_pct_diff'] > 1]\n",
    "filtered_df"
   ]
  },
  {
   "cell_type": "code",
   "execution_count": null,
   "id": "3f4fb314",
   "metadata": {},
   "outputs": [],
   "source": [
    "len(filtered_df.index)/len(df.index)*100"
   ]
  },
  {
   "cell_type": "code",
   "execution_count": null,
   "id": "26d99989",
   "metadata": {},
   "outputs": [],
   "source": [
    "filtered_df.describe()"
   ]
  },
  {
   "cell_type": "code",
   "execution_count": null,
   "id": "38609abf",
   "metadata": {},
   "outputs": [],
   "source": [
    "filtered_df.delta_return_pct_diff.sort_values().plot.hist()"
   ]
  },
  {
   "cell_type": "code",
   "execution_count": null,
   "id": "be2b5870",
   "metadata": {},
   "outputs": [],
   "source": [
    "plt.scatter(filtered_df.delta_return_pct_diff, filtered_df.wr_range)"
   ]
  },
  {
   "cell_type": "code",
   "execution_count": null,
   "id": "27dca2ae",
   "metadata": {},
   "outputs": [],
   "source": [
    "plt.scatter(filtered_df.delta_return_pct_diff, filtered_df.long_trigger)"
   ]
  },
  {
   "cell_type": "code",
   "execution_count": null,
   "id": "1c8ddb8a",
   "metadata": {},
   "outputs": [],
   "source": [
    "plt.scatter(filtered_df.delta_return_pct_diff, filtered_df.short_trigger)"
   ]
  }
 ],
 "metadata": {
  "kernelspec": {
   "display_name": "Python 3",
   "language": "python",
   "name": "python3"
  },
  "language_info": {
   "codemirror_mode": {
    "name": "ipython",
    "version": 3
   },
   "file_extension": ".py",
   "mimetype": "text/x-python",
   "name": "python",
   "nbconvert_exporter": "python",
   "pygments_lexer": "ipython3",
   "version": "3.7.10"
  }
 },
 "nbformat": 4,
 "nbformat_minor": 5
}
