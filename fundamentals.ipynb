{
 "cells": [
  {
   "cell_type": "markdown",
   "id": "7773797f-e86f-4f79-9500-d8ceaaad1011",
   "metadata": {},
   "source": [
    "# Fundamental Indicators"
   ]
  },
  {
   "cell_type": "markdown",
   "id": "f71298c3-83cd-46c0-a4b1-fb4a63214239",
   "metadata": {},
   "source": [
    "### *Libraries*"
   ]
  },
  {
   "cell_type": "code",
   "execution_count": 9,
   "id": "9857c60e-6477-4b90-a0e8-98d231de9e78",
   "metadata": {},
   "outputs": [],
   "source": [
    "# System\n",
    "import os, time, sys, glob\n",
    "from pathlib import Path\n",
    "from datetime import date, datetime, timedelta"
   ]
  },
  {
   "cell_type": "code",
   "execution_count": 232,
   "id": "ba80f47f-ded3-40c8-9c81-174330deb8b1",
   "metadata": {},
   "outputs": [],
   "source": [
    "# Data\n",
    "import numpy as np\n",
    "import pandas as pd\n",
    "from pandas import DataFrame, Series\n",
    "import sqlite3"
   ]
  },
  {
   "cell_type": "code",
   "execution_count": 17,
   "id": "2bbca8a0-01e1-446e-9667-cec4195d3d18",
   "metadata": {},
   "outputs": [],
   "source": [
    "# APIs\n",
    "from dotenv import load_dotenv\n",
    "import finnhub as fh"
   ]
  },
  {
   "cell_type": "code",
   "execution_count": 18,
   "id": "b6891fa4-a5b5-4cd6-8a35-9d14b107c589",
   "metadata": {},
   "outputs": [],
   "source": [
    "# Visualization\n",
    "import panel as pn\n",
    "import panel.widgets as pnw\n",
    "\n",
    "import plotly.express as px\n",
    "import plotly.graph_objects as go\n",
    "pn.extension('plotly')\n",
    "pn.extension()\n",
    "\n",
    "import holoviews as hv\n",
    "from holoviews import opts\n",
    "import hvplot.pandas\n",
    "\n",
    "import matplotlib.pyplot as plt\n",
    "import seaborn as sns"
   ]
  },
  {
   "cell_type": "code",
   "execution_count": 19,
   "id": "b5d2c149-4e90-4857-83b3-8250cfbf36d9",
   "metadata": {},
   "outputs": [],
   "source": [
    "# Fundamental Analysis\n",
    "from fundamentals import Fundamental"
   ]
  },
  {
   "cell_type": "markdown",
   "id": "5ef86b24-02d6-46dc-9f65-1c69a4afaa51",
   "metadata": {},
   "source": [
    "---"
   ]
  },
  {
   "cell_type": "markdown",
   "id": "1fd2c2c4-4f31-4304-8eaf-52883e8732c4",
   "metadata": {},
   "source": [
    "### *Data*"
   ]
  },
  {
   "cell_type": "markdown",
   "id": "3d95e6fa-123e-41c0-955a-b9bbed66409b",
   "metadata": {},
   "source": [
    "#### *API Data Methods*"
   ]
  },
  {
   "cell_type": "markdown",
   "id": "21381275-0b27-48b6-93ef-f9579ffe4dcb",
   "metadata": {},
   "source": [
    "##### FinnHub API"
   ]
  },
  {
   "cell_type": "code",
   "execution_count": 20,
   "id": "f569cc11-37db-4916-a9a1-f3f71d951530",
   "metadata": {},
   "outputs": [],
   "source": [
    "# load API keys\n",
    "api_key_path = Path('../resources/api_keys.env')  # replace with `/path/to/your/api_keys.env`\n",
    "load_dotenv(api_key_path)\n",
    "\n",
    "# Set FinnHub API key\n",
    "finnhub_api_key = os.getenv(\"FINNHUB_API_KEY\")"
   ]
  },
  {
   "cell_type": "code",
   "execution_count": 21,
   "id": "337595e8-ff4d-4220-b064-374fa88a0c13",
   "metadata": {},
   "outputs": [
    {
     "name": "stdout",
     "output_type": "stream",
     "text": [
      "FINNHUB_API_KEY: <class 'str'>\n"
     ]
    }
   ],
   "source": [
    "print(f\"FINNHUB_API_KEY: {type(finnhub_api_key)}\")"
   ]
  },
  {
   "cell_type": "code",
   "execution_count": 23,
   "id": "708d7d68-e70a-425c-b32c-92241638071e",
   "metadata": {},
   "outputs": [],
   "source": [
    "# Create FinnHub API object\n",
    "finnhub_client = fh.Client(api_key=finnhub_api_key)\n",
    "\n",
    "# Method to obtain json data from FinnHub\n",
    "def finnhub_data(ticker):\n",
    "    \n",
    "    data = finnhub_client.company_basic_financials(ticker, \"\")\n",
    "    data_df = pd.DataFrame(data)\n",
    "    time.sleep(1)\n",
    "    \n",
    "    return data_df"
   ]
  },
  {
   "cell_type": "markdown",
   "id": "7de238a3-0667-479e-b5e9-994a648f808c",
   "metadata": {},
   "source": [
    "##### FinnHub API data parsing methods"
   ]
  },
  {
   "cell_type": "code",
   "execution_count": 147,
   "id": "0447d3c7-a802-47ac-b87e-2cbe81fd97cf",
   "metadata": {},
   "outputs": [],
   "source": [
    "# Get stock fundamental data from FinnHub\n",
    "def fundamentals_finnhub(tickers : list) -> DataFrame:\n",
    "    '''Returns pd.DataFrame with fundamentals of tickers within tickers_df\n",
    "    \n",
    "    ...\n",
    "    Parameters\n",
    "    ----------\n",
    "    tickers_df : pd.DataFrame - contains tickers for given index or sector under \n",
    "        the \"Symbol\" column which is the DataFrame key\n",
    "        \n",
    "    Returns\n",
    "    -------\n",
    "    result_df : pd.DataFrame - securities fundamental data\n",
    "    '''\n",
    "    \n",
    "    def get_data(ticker): \n",
    "        data = finnhub_data(ticker)['metric'].transpose()\n",
    "        return data\n",
    "    \n",
    "    fundamentals_df = DataFrame()\n",
    "    fundamentals_df[tickers[0]] = get_data(tickers[0])\n",
    "    \n",
    "    for ticker in tickers[1:]:\n",
    "        fundamentals_df[ticker] = get_data(ticker)\n",
    "    \n",
    "    return fundamentals_df.transpose()"
   ]
  },
  {
   "cell_type": "code",
   "execution_count": 148,
   "id": "d3b7fb92-7130-49b3-82e1-d210b0fcf495",
   "metadata": {},
   "outputs": [
    {
     "data": {
      "text/html": [
       "<div>\n",
       "<style scoped>\n",
       "    .dataframe tbody tr th:only-of-type {\n",
       "        vertical-align: middle;\n",
       "    }\n",
       "\n",
       "    .dataframe tbody tr th {\n",
       "        vertical-align: top;\n",
       "    }\n",
       "\n",
       "    .dataframe thead th {\n",
       "        text-align: right;\n",
       "    }\n",
       "</style>\n",
       "<table border=\"1\" class=\"dataframe\">\n",
       "  <thead>\n",
       "    <tr style=\"text-align: right;\">\n",
       "      <th></th>\n",
       "      <th>10DayAverageTradingVolume</th>\n",
       "      <th>13WeekPriceReturnDaily</th>\n",
       "      <th>26WeekPriceReturnDaily</th>\n",
       "      <th>3MonthAverageTradingVolume</th>\n",
       "      <th>52WeekHigh</th>\n",
       "      <th>52WeekHighDate</th>\n",
       "      <th>52WeekLow</th>\n",
       "      <th>52WeekLowDate</th>\n",
       "      <th>52WeekPriceReturnDaily</th>\n",
       "      <th>5DayPriceReturnDaily</th>\n",
       "      <th>...</th>\n",
       "      <th>roiAnnual</th>\n",
       "      <th>roiTTM</th>\n",
       "      <th>tangibleBookValuePerShareAnnual</th>\n",
       "      <th>tangibleBookValuePerShareQuarterly</th>\n",
       "      <th>tbvCagr5Y</th>\n",
       "      <th>totalDebt/totalEquityAnnual</th>\n",
       "      <th>totalDebt/totalEquityQuarterly</th>\n",
       "      <th>totalDebtCagr5Y</th>\n",
       "      <th>yearToDatePriceReturnDaily</th>\n",
       "      <th>annual</th>\n",
       "    </tr>\n",
       "  </thead>\n",
       "  <tbody>\n",
       "    <tr>\n",
       "      <th>FB</th>\n",
       "      <td>20.54705</td>\n",
       "      <td>12.89619</td>\n",
       "      <td>10.97135</td>\n",
       "      <td>425.59724</td>\n",
       "      <td>331.81</td>\n",
       "      <td>2021-04-29</td>\n",
       "      <td>200.69</td>\n",
       "      <td>2020-05-14</td>\n",
       "      <td>48.83471</td>\n",
       "      <td>-4.61221</td>\n",
       "      <td>...</td>\n",
       "      <td>22.19312</td>\n",
       "      <td>24.61803</td>\n",
       "      <td>38.12461</td>\n",
       "      <td>40.16051</td>\n",
       "      <td>36.47031</td>\n",
       "      <td>0.40767</td>\n",
       "      <td>0.39429</td>\n",
       "      <td>10.67212</td>\n",
       "      <td>11.75135</td>\n",
       "      <td>NaN</td>\n",
       "    </tr>\n",
       "    <tr>\n",
       "      <th>AAPL</th>\n",
       "      <td>96.79679</td>\n",
       "      <td>-5.85063</td>\n",
       "      <td>6.86735</td>\n",
       "      <td>2185.98209</td>\n",
       "      <td>145.09</td>\n",
       "      <td>2021-01-25</td>\n",
       "      <td>75.0525</td>\n",
       "      <td>2020-05-15</td>\n",
       "      <td>64.696</td>\n",
       "      <td>-2.11965</td>\n",
       "      <td>...</td>\n",
       "      <td>25.44284</td>\n",
       "      <td>33.53747</td>\n",
       "      <td>3.84873</td>\n",
       "      <td>4.1458</td>\n",
       "      <td>-9.95011</td>\n",
       "      <td>173.0926</td>\n",
       "      <td>175.8435</td>\n",
       "      <td>11.94642</td>\n",
       "      <td>-3.94905</td>\n",
       "      <td>NaN</td>\n",
       "    </tr>\n",
       "    <tr>\n",
       "      <th>AMZN</th>\n",
       "      <td>4.62609</td>\n",
       "      <td>-1.6722</td>\n",
       "      <td>3.00721</td>\n",
       "      <td>78.17968</td>\n",
       "      <td>3554</td>\n",
       "      <td>2021-04-30</td>\n",
       "      <td>2330</td>\n",
       "      <td>2020-05-27</td>\n",
       "      <td>34.91429</td>\n",
       "      <td>-2.08743</td>\n",
       "      <td>...</td>\n",
       "      <td>12.83085</td>\n",
       "      <td>15.34307</td>\n",
       "      <td>145.9364</td>\n",
       "      <td>174.8016</td>\n",
       "      <td>53.4313</td>\n",
       "      <td>54.63471</td>\n",
       "      <td>66.93864</td>\n",
       "      <td>24.19046</td>\n",
       "      <td>-1.04485</td>\n",
       "      <td>NaN</td>\n",
       "    </tr>\n",
       "  </tbody>\n",
       "</table>\n",
       "<p>3 rows × 130 columns</p>\n",
       "</div>"
      ],
      "text/plain": [
       "     10DayAverageTradingVolume 13WeekPriceReturnDaily 26WeekPriceReturnDaily  \\\n",
       "FB                    20.54705               12.89619               10.97135   \n",
       "AAPL                  96.79679               -5.85063                6.86735   \n",
       "AMZN                   4.62609                -1.6722                3.00721   \n",
       "\n",
       "     3MonthAverageTradingVolume 52WeekHigh 52WeekHighDate 52WeekLow  \\\n",
       "FB                    425.59724     331.81     2021-04-29    200.69   \n",
       "AAPL                 2185.98209     145.09     2021-01-25   75.0525   \n",
       "AMZN                   78.17968       3554     2021-04-30      2330   \n",
       "\n",
       "     52WeekLowDate 52WeekPriceReturnDaily 5DayPriceReturnDaily  ... roiAnnual  \\\n",
       "FB      2020-05-14               48.83471             -4.61221  ...  22.19312   \n",
       "AAPL    2020-05-15                 64.696             -2.11965  ...  25.44284   \n",
       "AMZN    2020-05-27               34.91429             -2.08743  ...  12.83085   \n",
       "\n",
       "        roiTTM tangibleBookValuePerShareAnnual  \\\n",
       "FB    24.61803                        38.12461   \n",
       "AAPL  33.53747                         3.84873   \n",
       "AMZN  15.34307                        145.9364   \n",
       "\n",
       "     tangibleBookValuePerShareQuarterly tbvCagr5Y totalDebt/totalEquityAnnual  \\\n",
       "FB                             40.16051  36.47031                     0.40767   \n",
       "AAPL                             4.1458  -9.95011                    173.0926   \n",
       "AMZN                           174.8016   53.4313                    54.63471   \n",
       "\n",
       "     totalDebt/totalEquityQuarterly totalDebtCagr5Y  \\\n",
       "FB                          0.39429        10.67212   \n",
       "AAPL                       175.8435        11.94642   \n",
       "AMZN                       66.93864        24.19046   \n",
       "\n",
       "     yearToDatePriceReturnDaily annual  \n",
       "FB                     11.75135    NaN  \n",
       "AAPL                   -3.94905    NaN  \n",
       "AMZN                   -1.04485    NaN  \n",
       "\n",
       "[3 rows x 130 columns]"
      ]
     },
     "execution_count": 148,
     "metadata": {},
     "output_type": "execute_result"
    }
   ],
   "source": [
    "fundamentals = fundamentals_finnhub(['FB','AAPL','AMZN'])\n",
    "fundamentals"
   ]
  },
  {
   "cell_type": "code",
   "execution_count": null,
   "id": "e98970ef-967a-4a50-b071-8cece2961046",
   "metadata": {},
   "outputs": [],
   "source": []
  }
 ],
 "metadata": {
  "kernelspec": {
   "display_name": "Python 3",
   "language": "python",
   "name": "python3"
  },
  "language_info": {
   "codemirror_mode": {
    "name": "ipython",
    "version": 3
   },
   "file_extension": ".py",
   "mimetype": "text/x-python",
   "name": "python",
   "nbconvert_exporter": "python",
   "pygments_lexer": "ipython3",
   "version": "3.8.10"
  }
 },
 "nbformat": 4,
 "nbformat_minor": 5
}
